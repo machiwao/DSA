{
 "cells": [
  {
   "cell_type": "markdown",
   "metadata": {},
   "source": [
    "# **Queue**"
   ]
  },
  {
   "cell_type": "markdown",
   "metadata": {},
   "source": [
    "#### Queue follows the First In First Out (FIFO) rule - the item that goes in first is the item that comes out first."
   ]
  },
  {
   "cell_type": "markdown",
   "metadata": {},
   "source": [
    "### **Parts of a Queue**\n",
    "1. Front - track the first element of the queue\n",
    "2. Rear - track the last element of the queue"
   ]
  },
  {
   "cell_type": "markdown",
   "metadata": {},
   "source": [
    "### **Operations of Queue**"
   ]
  },
  {
   "cell_type": "markdown",
   "metadata": {},
   "source": [
    "#### A queue is an object (an abstract data structure - ADT) that allows the following operations:\n",
    "1. Enqueue - Add an element to the end of the queue\n",
    "2. Dequeue - Remove an element from the front of the queue\n",
    "3. IsEmpty - Check if the queue is empty\n",
    "4. IsFull - Check if the queue is full\n",
    "5. Peek - Get the value of the front of the queue without removing it"
   ]
  },
  {
   "cell_type": "markdown",
   "metadata": {},
   "source": [
    "### **Types of Queue**\n",
    "1. Simple Queue\n",
    "2. Circular Queue\n",
    "3. Priority Queue\n",
    "4. Double Ended Queue"
   ]
  },
  {
   "cell_type": "markdown",
   "metadata": {},
   "source": [
    "### **Python Code Implementation:** *Arrays/List*"
   ]
  },
  {
   "cell_type": "code",
   "execution_count": null,
   "metadata": {
    "vscode": {
     "languageId": "plaintext"
    }
   },
   "outputs": [],
   "source": []
  },
  {
   "cell_type": "markdown",
   "metadata": {},
   "source": [
    "### **Python Code Implementation:** *Linked-List*"
   ]
  },
  {
   "cell_type": "code",
   "execution_count": null,
   "metadata": {
    "vscode": {
     "languageId": "plaintext"
    }
   },
   "outputs": [],
   "source": []
  }
 ],
 "metadata": {
  "language_info": {
   "name": "python"
  },
  "orig_nbformat": 4
 },
 "nbformat": 4,
 "nbformat_minor": 2
}
