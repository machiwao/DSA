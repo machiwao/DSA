{
 "cells": [
  {
   "cell_type": "markdown",
   "metadata": {},
   "source": [
    "# **Insertion Sort**"
   ]
  },
  {
   "cell_type": "markdown",
   "metadata": {},
   "source": [
    "Insertion sort is a sorting algorithm that places an unsorted element at its suitable place in each iteration."
   ]
  },
  {
   "cell_type": "markdown",
   "metadata": {},
   "source": [
    "# **Implementation**"
   ]
  },
  {
   "cell_type": "code",
   "execution_count": 22,
   "metadata": {},
   "outputs": [],
   "source": [
    "def Insertion_Sort(list):\n",
    "    print(f\"Before Sorted: {list}\")\n",
    "    for i in range(1, len(list)):\n",
    "        key = list[i]\n",
    "        j = i - 1\n",
    "        while j >= 0 and list[j] > key:\n",
    "            list[j+1] = list[j]\n",
    "            j -= 1\n",
    "        list[j+1] = key\n",
    "    print(f\"Sorted: {list}\")"
   ]
  },
  {
   "cell_type": "markdown",
   "metadata": {},
   "source": [
    "## **Test Run**"
   ]
  },
  {
   "cell_type": "code",
   "execution_count": 23,
   "metadata": {},
   "outputs": [
    {
     "name": "stdout",
     "output_type": "stream",
     "text": [
      "Before Sorted: [9, -2, 1, 0, 2, -3]\n",
      "Sorted: [-3, -2, 0, 1, 2, 9]\n"
     ]
    }
   ],
   "source": [
    "a = [9, -2, 1, 0, 2, -3]\n",
    "Insertion_Sort(a)"
   ]
  }
 ],
 "metadata": {
  "kernelspec": {
   "display_name": "Python 3",
   "language": "python",
   "name": "python3"
  },
  "language_info": {
   "codemirror_mode": {
    "name": "ipython",
    "version": 3
   },
   "file_extension": ".py",
   "mimetype": "text/x-python",
   "name": "python",
   "nbconvert_exporter": "python",
   "pygments_lexer": "ipython3",
   "version": "3.10.7"
  },
  "orig_nbformat": 4
 },
 "nbformat": 4,
 "nbformat_minor": 2
}
