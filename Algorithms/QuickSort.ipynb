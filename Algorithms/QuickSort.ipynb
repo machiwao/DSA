{
 "cells": [
  {
   "cell_type": "markdown",
   "metadata": {},
   "source": [
    "# **Quick Sort**"
   ]
  },
  {
   "cell_type": "markdown",
   "metadata": {},
   "source": [
    "Quicksort is a sorting algorithm based on the divide and conquer approach. However, unlike Merge sort, we select a pivot element"
   ]
  },
  {
   "cell_type": "markdown",
   "metadata": {},
   "source": [
    "## **Implementation**"
   ]
  },
  {
   "cell_type": "code",
   "execution_count": 54,
   "metadata": {},
   "outputs": [],
   "source": [
    "def partition(array, low, high):\n",
    "    pivot = array[high]\n",
    "    i = low - 1\n",
    "    for j in range(low, high):\n",
    "        if array[j] <= pivot:\n",
    "            i = i + 1\n",
    "            array[i], array[j] = array[j], array[i]\n",
    "            print(array)\n",
    "    array[i+1], array[high] = array[high], array[i+1]\n",
    "    print(array)\n",
    "    return i + 1\n",
    "\n",
    "def Quick_Sort(array, low, high):\n",
    "    if low < high:\n",
    "        pivot = partition(array, low, high)\n",
    "        Quick_Sort(array, low, pivot - 1)\n",
    "        Quick_Sort(array, pivot + 1, high)"
   ]
  },
  {
   "cell_type": "markdown",
   "metadata": {},
   "source": [
    "## **Test Run**"
   ]
  },
  {
   "cell_type": "code",
   "execution_count": 55,
   "metadata": {},
   "outputs": [
    {
     "name": "stdout",
     "output_type": "stream",
     "text": [
      "[1, 7, 6, 8, 0, 9, 2]\n",
      "[1, 0, 6, 8, 7, 9, 2]\n",
      "[1, 0, 2, 8, 7, 9, 6]\n",
      "[0, 1, 2, 8, 7, 9, 6]\n",
      "[0, 1, 2, 6, 7, 9, 8]\n",
      "[0, 1, 2, 6, 7, 9, 8]\n",
      "[0, 1, 2, 6, 7, 8, 9]\n",
      "[0, 1, 2, 6, 7, 8, 9]\n"
     ]
    }
   ],
   "source": [
    "array = [8, 7, 6, 1, 0, 9, 2]\n",
    "size = len(array)\n",
    "Quick_Sort(array, 0, size - 1)\n",
    "print(array)"
   ]
  }
 ],
 "metadata": {
  "kernelspec": {
   "display_name": "Python 3",
   "language": "python",
   "name": "python3"
  },
  "language_info": {
   "codemirror_mode": {
    "name": "ipython",
    "version": 3
   },
   "file_extension": ".py",
   "mimetype": "text/x-python",
   "name": "python",
   "nbconvert_exporter": "python",
   "pygments_lexer": "ipython3",
   "version": "3.10.7"
  },
  "orig_nbformat": 4
 },
 "nbformat": 4,
 "nbformat_minor": 2
}
