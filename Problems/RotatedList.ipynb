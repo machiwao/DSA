{
 "cells": [
  {
   "cell_type": "markdown",
   "metadata": {},
   "source": [
    "# **Problem - Rotated Lists**"
   ]
  },
  {
   "cell_type": "markdown",
   "metadata": {},
   "source": [
    "We'll solve the following problem step-by-step:\n",
    "> You are given a list of numbers, obtained by rotating a sorted list an unknown number of times. Write a function to determine the minimum number of times the original sorted list was rotated to obtain the given list. Your function should have the worst-case complexity of O(log N), where N is the length of the list. You can assume that all the numbers in the list are unique.<br><br>\n",
    "Example: The list [5, 6, 9, 0, 2, 3, 4] was obtained by rotating the sorted list [0, 2, 3, 4, 5, 6, 9] 3 times<br><br>\n",
    "We define \"rotating a list\" as removing the last element of the lsit and adding it before the first element. E.g. rotating the list [3, 2, 4, 1] produces [1, 3, 2, 4].<br><br>\n",
    "\"Sorted list\" refers to a list where the elements are arranged in the increasing order. e.g. [1, 3, 5, 7]\n"
   ]
  },
  {
   "cell_type": "markdown",
   "metadata": {},
   "source": [
    "## **Solution**\n",
    "### **1. State the problem clearly. Identify the input and output formats.**\n",
    "> Given a rotated sorted list that was rotated some unknown number of times, we need to find the number of times it was rotated.\n",
    "\n",
    "**Input**\n",
    "1. `nums` : A sorted rotated list e.g. `[7, 9, 3, 5, 6]`\n",
    "\n",
    "**Output**\n",
    "\n",
    "2. `rotations` : number of times the sorted list was rotated. e.g. `2`\n",
    "\n",
    "Preliminary function:"
   ]
  },
  {
   "cell_type": "code",
   "execution_count": 10,
   "metadata": {},
   "outputs": [],
   "source": [
    "def count_rotations(nums):\n",
    "    pass"
   ]
  },
  {
   "cell_type": "markdown",
   "metadata": {},
   "source": [
    "### **2. Come up with some example inputs & outputs. Try to cover all edge cases** <br>\n",
    "Our function should be able to handle any set of valid inputs we pass into it. Here's a list of some possible variations we might encounter:\n",
    "1. A list of size 10 rotated 3 times.\n",
    "2. A list of size 8 rotated 5 times.\n",
    "3. A list that wasn't rotated at all.\n",
    "4. A list that was rotated just once.\n",
    "5. A list that was rotated n-1 times, where n is the size of the list.\n",
    "6. A list that was rotated n times (is it the original list?)\n",
    "7. An empty list.\n",
    "8. A list containing one element."
   ]
  },
  {
   "cell_type": "code",
   "execution_count": 11,
   "metadata": {},
   "outputs": [],
   "source": [
    "tests = []"
   ]
  },
  {
   "cell_type": "code",
   "execution_count": 12,
   "metadata": {},
   "outputs": [],
   "source": [
    "#size 10, 3 times\n",
    "test1= {\n",
    "    'input' : {\n",
    "        'nums' : [19, 25, 29, 3, 5, 6, 7, 9, 11, 14]\n",
    "    },\n",
    "    'output' : 3\n",
    "}\n",
    "#size 8, 5 times\n",
    "test2 = {\n",
    "    'input' : {\n",
    "        'nums' : [4, 5, 6, 7, 8, 1, 2, 3]\n",
    "    },\n",
    "    'output' : 5\n",
    "}\n",
    "#wasn't rotated at all\n",
    "test3 = {\n",
    "    'input' : {\n",
    "        'nums' : [1, 2, 3, 4, 5, 6]\n",
    "    },\n",
    "    'output' : 0\n",
    "}\n",
    "#rotated once\n",
    "test4 = {\n",
    "    'input' : {\n",
    "        'nums' : [3, 1, 2]\n",
    "    },\n",
    "    'output' : 1\n",
    "}\n",
    "#rotated n-1 times\n",
    "test5 = {\n",
    "    'input' : {\n",
    "        'nums' : [2, 3, 4, 5, 1]\n",
    "    },\n",
    "    'output' : 4\n",
    "}\n",
    "#rotated n times\n",
    "test6 = {\n",
    "    'input' : {\n",
    "        'nums' : [1,2,3]\n",
    "    },\n",
    "    'output' : 0\n",
    "}\n",
    "#empty list\n",
    "test7 = {\n",
    "    'input' : {\n",
    "        'nums' : []\n",
    "    },\n",
    "    'output' : 0\n",
    "}\n",
    "\n",
    "#A list containing just one element\n",
    "test8 = {\n",
    "    'input' : {\n",
    "        'nums' : [1]\n",
    "    },\n",
    "    'output' : 0\n",
    "}"
   ]
  },
  {
   "cell_type": "code",
   "execution_count": 40,
   "metadata": {},
   "outputs": [],
   "source": [
    "tests = [test1, test2, test3, test4, test5, test6, test7, test8]"
   ]
  },
  {
   "cell_type": "code",
   "execution_count": 41,
   "metadata": {},
   "outputs": [
    {
     "data": {
      "text/plain": [
       "[{'input': {'nums': [19, 25, 29, 3, 5, 6, 7, 9, 11, 14]}, 'output': 3},\n",
       " {'input': {'nums': [4, 5, 6, 7, 8, 1, 2, 3]}, 'output': 5},\n",
       " {'input': {'nums': [1, 2, 3, 4, 5, 6]}, 'output': 0},\n",
       " {'input': {'nums': [3, 1, 2]}, 'output': 1},\n",
       " {'input': {'nums': [2, 3, 4, 5, 1]}, 'output': 4},\n",
       " {'input': {'nums': [1, 2, 3]}, 'output': 0},\n",
       " {'input': {'nums': []}, 'output': 0},\n",
       " {'input': {'nums': [1]}, 'output': 0}]"
      ]
     },
     "execution_count": 41,
     "metadata": {},
     "output_type": "execute_result"
    }
   ],
   "source": [
    "tests"
   ]
  },
  {
   "cell_type": "code",
   "execution_count": 16,
   "metadata": {},
   "outputs": [
    {
     "name": "stdout",
     "output_type": "stream",
     "text": [
      "False\n",
      "False\n",
      "False\n",
      "False\n"
     ]
    }
   ],
   "source": [
    "for test in tests:\n",
    "    print(count_rotations(**test['input']) == test['output'])"
   ]
  },
  {
   "cell_type": "markdown",
   "metadata": {},
   "source": [
    "### **3. Come up with a correct solution for the problem. State it in plain English.**\n",
    "\n",
    "The location of the smallest number through indexing (counting from index 0) is the number of times the sorted list was rotated. Try linear search algorithm\n",
    "\n",
    "1. Create a variable `position` with value 1.\n",
    "2. Compare the number at current position to the number before it.\n",
    "3. If the number is smaller than its predecessor, then return position.\n",
    "4. Otherwise, increment position and repeat until end of list."
   ]
  },
  {
   "cell_type": "markdown",
   "metadata": {},
   "source": [
    "### **4. Implement the solution and test it using example inputs. Fix bugs, if any.**"
   ]
  },
  {
   "cell_type": "code",
   "execution_count": 20,
   "metadata": {},
   "outputs": [],
   "source": [
    "def count_rotations_linear(nums):\n",
    "    position = 0\n",
    "    while position < len(nums):\n",
    "        if position > 0 and nums[position] < nums[position-1]:\n",
    "            return position\n",
    "        position += 1\n",
    "    \n",
    "    return 0"
   ]
  },
  {
   "cell_type": "markdown",
   "metadata": {},
   "source": [
    "Test run:"
   ]
  },
  {
   "cell_type": "code",
   "execution_count": 22,
   "metadata": {},
   "outputs": [
    {
     "name": "stdout",
     "output_type": "stream",
     "text": [
      "True\n",
      "True\n",
      "True\n",
      "True\n"
     ]
    }
   ],
   "source": [
    "for test in tests:\n",
    "    print(count_rotations_linear(**test['input']) == test['output'])"
   ]
  },
  {
   "cell_type": "markdown",
   "metadata": {},
   "source": [
    "### **5. Analyze the algorithm's complexity and identify inefficiencies if any**\n",
    "\n",
    "Linear search complexity : `O(n)`"
   ]
  },
  {
   "cell_type": "markdown",
   "metadata": {},
   "source": [
    "### **6. Apply the right technique to overcome the inefficiency. Repeat steps 3 to 6.**\n",
    "\n",
    "Try Binary Search by asking this problem:\n",
    "> Given the middle element, how to decide if it is the answer(smallest number), or whether the answer lies to the left or right of it.\n",
    "\n",
    "Conditions:\n",
    "1. If `mid` is smaller than last element of the range, the answer lies to the left of it.<br>\n",
    "`[7, 8, 1, 3, 4, 5, 6]`\n",
    "2. Otherwise, the answer lies to the right.<br>\n",
    "`[1, 2, 3, 4, 5, -1, 0]`"
   ]
  },
  {
   "cell_type": "code",
   "execution_count": 43,
   "metadata": {},
   "outputs": [],
   "source": [
    "def count_rotations_binary(nums):\n",
    "    lo = 0\n",
    "    hi = len(nums) - 1\n",
    "\n",
    "    while lo <= hi:\n",
    "        mid = (lo + hi) // 2\n",
    "        mid_number = nums[mid]\n",
    "        if mid > 0 and nums[mid - 1] > mid_number:\n",
    "            return mid\n",
    "        elif mid_number > nums[hi]:\n",
    "            lo = mid + 1\n",
    "        else:\n",
    "            hi = mid - 1\n",
    "    \n",
    "    return 0"
   ]
  },
  {
   "cell_type": "code",
   "execution_count": 49,
   "metadata": {},
   "outputs": [
    {
     "name": "stdout",
     "output_type": "stream",
     "text": [
      "True\n",
      "True\n",
      "True\n",
      "True\n",
      "True\n",
      "True\n",
      "True\n",
      "True\n"
     ]
    }
   ],
   "source": [
    "for test in tests:\n",
    "    print(count_rotations_binary(**test['input']) == test['output'])"
   ]
  }
 ],
 "metadata": {
  "kernelspec": {
   "display_name": "Python 3",
   "language": "python",
   "name": "python3"
  },
  "language_info": {
   "codemirror_mode": {
    "name": "ipython",
    "version": 3
   },
   "file_extension": ".py",
   "mimetype": "text/x-python",
   "name": "python",
   "nbconvert_exporter": "python",
   "pygments_lexer": "ipython3",
   "version": "3.10.7"
  },
  "orig_nbformat": 4
 },
 "nbformat": 4,
 "nbformat_minor": 2
}
