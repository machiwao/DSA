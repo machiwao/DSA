{
 "cells": [
  {
   "cell_type": "markdown",
   "metadata": {},
   "source": [
    "# **Linked List Implementation**"
   ]
  },
  {
   "cell_type": "markdown",
   "metadata": {},
   "source": [
    "### Create Node Class for Linked List:"
   ]
  },
  {
   "cell_type": "code",
   "execution_count": 1,
   "metadata": {},
   "outputs": [],
   "source": [
    "class Node:\n",
    "    def __init__(self, value):\n",
    "        self.value = value\n",
    "        self.next = None"
   ]
  },
  {
   "cell_type": "markdown",
   "metadata": {},
   "source": [
    "### Create Linked List class (Singly)"
   ]
  },
  {
   "cell_type": "code",
   "execution_count": 3,
   "metadata": {},
   "outputs": [],
   "source": [
    "class SinglyLinkedList():\n",
    "    def __init__(self):\n",
    "        self.head = None"
   ]
  },
  {
   "cell_type": "markdown",
   "metadata": {},
   "source": [
    "#### Operations of SLL"
   ]
  },
  {
   "cell_type": "code",
   "execution_count": 200,
   "metadata": {},
   "outputs": [],
   "source": [
    "class SinglyLinkedList():\n",
    "    def __init__(self):\n",
    "        self.head = None\n",
    "        self.tail = None\n",
    "        self.size = 0\n",
    "\n",
    "    def append(self, value):\n",
    "        if self.head is None:\n",
    "            self.head = Node(value)\n",
    "            self.tail = self.head\n",
    "        else:\n",
    "            pointer = self.head\n",
    "            while pointer.next is not None:\n",
    "                pointer = pointer.next\n",
    "            pointer.next = self.tail = Node(value)\n",
    "        self.size += 1\n",
    "    \n",
    "    def appendFirst(self, value):\n",
    "        if self.head is None:\n",
    "            self.head = Node(value)\n",
    "        else:\n",
    "            added_node = Node(value)\n",
    "            added_node.next = self.head\n",
    "            self.head = added_node\n",
    "        self.size += 1\n",
    "\n",
    "    def appendAtPosition(self, value):\n",
    "        pass\n",
    "    \n",
    "    def get_element(self, position):\n",
    "        current_index = 0\n",
    "        pointer = self.head\n",
    "        while pointer is not None:\n",
    "            if current_index == position:\n",
    "                return pointer.value\n",
    "            pointer = pointer.next\n",
    "            current_index = current_index + 1\n",
    "        return None\n",
    "    \n",
    "    def delete(self, value):\n",
    "        pointer = self.head\n",
    "        prev = None\n",
    "        while pointer is not None:\n",
    "            if pointer.value == value:\n",
    "                break\n",
    "            prev = pointer\n",
    "            pointer = pointer.next\n",
    "        if pointer is None:\n",
    "            return -1\n",
    "        if prev is None:\n",
    "            self.head = pointer.next\n",
    "            self.size -= 1\n",
    "        else:\n",
    "            prev.next = pointer.next\n",
    "            self.size -= 1\n",
    "    \n",
    "    def deleteHead(self):\n",
    "        if self.size == 0:\n",
    "            return -1\n",
    "        self.head = self.head.next\n",
    "        self.size -= 1\n",
    "    \n",
    "    def deleteTail(self):\n",
    "        pointer = self.head\n",
    "        while pointer.next is not self.tail:\n",
    "            pointer = pointer.next\n",
    "        self.tail = pointer\n",
    "        self.tail.next = None\n",
    "        self.size -= 1\n",
    "            \n",
    "    \n",
    "    def show_elements(self):\n",
    "        pointer = self.head\n",
    "        while pointer is not None:\n",
    "            print(pointer.value, end = \" > \")\n",
    "            pointer = pointer.next\n",
    "    \n",
    "    def get_length(self):\n",
    "        return self.size\n",
    "    \n",
    "    def is_empty(self):\n",
    "        return self.size == 0\n",
    "\n"
   ]
  },
  {
   "cell_type": "code",
   "execution_count": 201,
   "metadata": {},
   "outputs": [],
   "source": [
    "singly = SinglyLinkedList()\n",
    "singly.append(1)\n",
    "singly.append(2)\n",
    "singly.appendFirst(0)\n",
    "singly.append(3)"
   ]
  },
  {
   "cell_type": "code",
   "execution_count": 202,
   "metadata": {},
   "outputs": [
    {
     "name": "stdout",
     "output_type": "stream",
     "text": [
      "0 > 1 > 2 > 3 > "
     ]
    }
   ],
   "source": [
    "singly.show_elements()"
   ]
  },
  {
   "cell_type": "code",
   "execution_count": 203,
   "metadata": {},
   "outputs": [
    {
     "name": "stdout",
     "output_type": "stream",
     "text": [
      "1 > 2 > 3 > "
     ]
    }
   ],
   "source": [
    "singly.deleteHead()\n",
    "singly.show_elements()"
   ]
  },
  {
   "cell_type": "code",
   "execution_count": 204,
   "metadata": {},
   "outputs": [
    {
     "name": "stdout",
     "output_type": "stream",
     "text": [
      "1 > 2 > "
     ]
    }
   ],
   "source": [
    "singly.deleteTail()\n",
    "singly.show_elements()"
   ]
  },
  {
   "cell_type": "code",
   "execution_count": 205,
   "metadata": {},
   "outputs": [
    {
     "name": "stdout",
     "output_type": "stream",
     "text": [
      "2 > "
     ]
    }
   ],
   "source": [
    "singly.delete(1)\n",
    "singly.show_elements()"
   ]
  }
 ],
 "metadata": {
  "kernelspec": {
   "display_name": "Python 3",
   "language": "python",
   "name": "python3"
  },
  "language_info": {
   "codemirror_mode": {
    "name": "ipython",
    "version": 3
   },
   "file_extension": ".py",
   "mimetype": "text/x-python",
   "name": "python",
   "nbconvert_exporter": "python",
   "pygments_lexer": "ipython3",
   "version": "3.10.7"
  },
  "orig_nbformat": 4
 },
 "nbformat": 4,
 "nbformat_minor": 2
}
