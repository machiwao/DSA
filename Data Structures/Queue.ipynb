{
 "cells": [
  {
   "cell_type": "markdown",
   "metadata": {},
   "source": [
    "# **Queue**"
   ]
  },
  {
   "cell_type": "markdown",
   "metadata": {},
   "source": [
    "#### Queue follows the First In First Out (FIFO) rule - the item that goes in first is the item that comes out first."
   ]
  },
  {
   "cell_type": "markdown",
   "metadata": {},
   "source": [
    "### **Parts of a Queue**\n",
    "1. Front - track the first element of the queue\n",
    "2. Rear - track the last element of the queue"
   ]
  },
  {
   "cell_type": "markdown",
   "metadata": {},
   "source": [
    "### **Operations of Queue**"
   ]
  },
  {
   "cell_type": "markdown",
   "metadata": {},
   "source": [
    "#### A queue is an object (an abstract data structure - ADT) that allows the following operations:\n",
    "1. Enqueue - Add an element to the end of the queue\n",
    "2. Dequeue - Remove an element from the front of the queue\n",
    "3. IsEmpty - Check if the queue is empty\n",
    "4. IsFull - Check if the queue is full\n",
    "5. Peek - Get the value of the front of the queue without removing it"
   ]
  },
  {
   "cell_type": "markdown",
   "metadata": {},
   "source": [
    "### **Types of Queue**\n",
    "1. Simple Queue\n",
    "2. Circular Queue\n",
    "3. Priority Queue\n",
    "4. Double Ended Queue"
   ]
  },
  {
   "cell_type": "markdown",
   "metadata": {},
   "source": [
    "### **Python Code Implementation:** *Arrays/List*"
   ]
  },
  {
   "cell_type": "markdown",
   "metadata": {},
   "source": [
    "#### *Simple Queue*"
   ]
  },
  {
   "cell_type": "code",
   "execution_count": 111,
   "metadata": {},
   "outputs": [],
   "source": [
    "class Queue:\n",
    "    def __init__(self, size):\n",
    "        self.queue = []\n",
    "        self.capacity = size\n",
    "    \n",
    "    def enqueue(self, element):\n",
    "        if self.is_full() is True:\n",
    "            print(\"Queue is Full\")\n",
    "            return\n",
    "        self.queue.append(element)\n",
    "    \n",
    "    def dequeue(self):\n",
    "        if self.is_empty() is True:\n",
    "            print(\"Queue is empty\")\n",
    "            return\n",
    "        self.queue.pop(0)\n",
    "    \n",
    "    def is_empty(self):\n",
    "        return len(self.queue) == 0\n",
    "    \n",
    "    def is_full(self):\n",
    "        return len(self.queue) == self.capacity\n",
    "    \n",
    "    def peek(self):\n",
    "        if self.is_empty() is True:\n",
    "            return None\n",
    "        return self.queue[0]\n",
    "    \n",
    "    def print_queue(self):\n",
    "        print(self.queue)"
   ]
  },
  {
   "cell_type": "markdown",
   "metadata": {},
   "source": [
    "#### *Circular Queue*"
   ]
  },
  {
   "cell_type": "code",
   "execution_count": 117,
   "metadata": {},
   "outputs": [],
   "source": [
    "class Queue:\n",
    "    def __init__(self, size):\n",
    "        self.size = size\n",
    "        self.queue = [None] * size\n",
    "        self.front = self.rear = -1\n",
    "    \n",
    "    def enqueue(self, element):\n",
    "        if self.is_full():\n",
    "            print(\"Queue is Full\")\n",
    "            return\n",
    "        if self.front == -1:\n",
    "            self.front = self.rear = 0\n",
    "            self.queue[self.rear] = element\n",
    "        else:\n",
    "            self.rear = (self.rear + 1) % self.size\n",
    "            self.queue[self.rear] = element\n",
    "    \n",
    "    def dequeue(self):\n",
    "        if self.is_empty():\n",
    "            print(\"Queue is empty\")\n",
    "            return\n",
    "        if self.front == self.rear:\n",
    "            self.front = self.rear = -1\n",
    "        else:\n",
    "            self.front = (self.front + 1) % self.size\n",
    "    \n",
    "    def is_empty(self):\n",
    "        return self.front == -1\n",
    "    \n",
    "    def is_full(self):\n",
    "        return (self.rear + 1) % self.size == self.front\n",
    "    \n",
    "    def peek(self):\n",
    "        if self.is_empty() is True:\n",
    "            return None\n",
    "        return self.queue[self.front]\n",
    "    \n",
    "    def print_queue(self):\n",
    "        if self.is_empty() is True:\n",
    "            return []\n",
    "        elif self.rear >= self.front:\n",
    "            for i in range(self.front, self.rear + 1):\n",
    "                print(self.queue[i], end = \" \")\n",
    "        else:\n",
    "            for i in range(self.front, self.size):\n",
    "                print(self.queue[i], end = \" \")\n",
    "            for i in range(0, self.rear + 1):\n",
    "                print(self.queue[i], end = \" \")"
   ]
  },
  {
   "cell_type": "markdown",
   "metadata": {},
   "source": [
    "### **Python Code Implementation:** *Linked-List*"
   ]
  },
  {
   "cell_type": "markdown",
   "metadata": {},
   "source": [
    "#### *Simple Queue*"
   ]
  },
  {
   "cell_type": "code",
   "execution_count": 123,
   "metadata": {},
   "outputs": [],
   "source": [
    "class Node:\n",
    "    def __init__(self, data):\n",
    "        self.data = data\n",
    "        self.next = None\n",
    "\n",
    "class Queue:\n",
    "    def __init__(self, size):\n",
    "        self.front = None\n",
    "        self.rear = None\n",
    "        self.capacity = size\n",
    "        self.current_size = 0\n",
    "    \n",
    "    def enqueue(self, element):\n",
    "        if self.is_full() is True:\n",
    "            print(\"Queue is Full\")\n",
    "            return\n",
    "        new_element = Node(element)\n",
    "        \n",
    "        if self.is_empty() is True:\n",
    "            self.front = self.rear = new_element\n",
    "        else:\n",
    "            self.rear.next = new_element\n",
    "            self.rear = new_element\n",
    "\n",
    "        print(f\"Enqueued item: {element}\")\n",
    "        self.current_size += 1\n",
    "    \n",
    "    def dequeue(self):\n",
    "        if self.is_empty() is True:\n",
    "            print(\"Queue is empty\")\n",
    "            return\n",
    "        print(f\"dequeued element: {self.front.data}\")\n",
    "        self.front = self.front.next\n",
    "        self.current_size -= 1\n",
    "\n",
    "    def is_empty(self):\n",
    "        return self.current_size == 0\n",
    "    \n",
    "    def is_full(self):\n",
    "        return self.current_size == self.capacity\n",
    "    \n",
    "    def peek(self):\n",
    "        if self.is_empty() is True:\n",
    "            return None\n",
    "        return self.front.data\n",
    "    \n",
    "    def print_queue(self):\n",
    "        pointer = self.front\n",
    "        while pointer is not None:\n",
    "            print(pointer.data, end = \"->\")\n",
    "            pointer = pointer.next"
   ]
  },
  {
   "cell_type": "markdown",
   "metadata": {},
   "source": [
    "#### *Circular Queue*"
   ]
  },
  {
   "cell_type": "code",
   "execution_count": 129,
   "metadata": {},
   "outputs": [],
   "source": [
    "class Node:\n",
    "    def __init__(self, data):\n",
    "        self.data = data\n",
    "        self.next = None\n",
    "\n",
    "class Queue:\n",
    "    def __init__(self, size):\n",
    "        self.front = None\n",
    "        self.rear = None\n",
    "        self.capacity = size\n",
    "        self.current_size = 0\n",
    "    \n",
    "    def enqueue(self, element):\n",
    "        if self.is_full() is True:\n",
    "            print(\"Queue is Full\")\n",
    "            return\n",
    "        new_element = Node(element)\n",
    "        \n",
    "        if self.is_empty() is True:\n",
    "            self.front = self.rear = new_element\n",
    "        else:\n",
    "            self.rear.next = self.rear = new_element\n",
    "            self.rear.next = self.front\n",
    "\n",
    "        print(f\"Enqueued item: {element}\")\n",
    "        self.current_size += 1\n",
    "    \n",
    "    def dequeue(self):\n",
    "        if self.is_empty() is True:\n",
    "            print(\"Queue is empty\")\n",
    "            return\n",
    "        print(f\"dequeued element: {self.front.data}\")\n",
    "        if self.rear == self.front:\n",
    "            self.rear = self.front = None\n",
    "        else:\n",
    "            self.rear.next = self.front = self.front.next\n",
    "        self.current_size -= 1\n",
    "\n",
    "    def is_empty(self):\n",
    "        return self.current_size == 0\n",
    "    \n",
    "    def is_full(self):\n",
    "        return self.current_size == self.capacity\n",
    "    \n",
    "    def peek(self):\n",
    "        if self.is_empty() is True:\n",
    "            return None\n",
    "        return self.front.data\n",
    "    \n",
    "    def print_queue(self):\n",
    "        pointer = self.front\n",
    "        while pointer is not None:\n",
    "            print(pointer.data, end = \"->\")\n",
    "            pointer = pointer.next\n",
    "\n",
    "            if pointer == self.front: break"
   ]
  },
  {
   "cell_type": "markdown",
   "metadata": {},
   "source": [
    "### **Test Code** - Always check current queue, empty, full, and top element after every number "
   ]
  },
  {
   "cell_type": "markdown",
   "metadata": {},
   "source": [
    "1. Create Queue."
   ]
  },
  {
   "cell_type": "code",
   "execution_count": 130,
   "metadata": {},
   "outputs": [
    {
     "name": "stdout",
     "output_type": "stream",
     "text": [
      "is_empty:  True\n",
      "is_full:  False\n",
      "peek:  None\n"
     ]
    }
   ],
   "source": [
    "queue = Queue(5)\n",
    "queue.print_queue()\n",
    "print(\"is_empty: \", queue.is_empty())\n",
    "print(\"is_full: \", queue.is_full())\n",
    "print(\"peek: \", queue.peek())"
   ]
  },
  {
   "cell_type": "markdown",
   "metadata": {},
   "source": [
    "2. Enqueue 1, 2, 3, 4, 5, 6"
   ]
  },
  {
   "cell_type": "code",
   "execution_count": 131,
   "metadata": {},
   "outputs": [
    {
     "name": "stdout",
     "output_type": "stream",
     "text": [
      "Enqueued item: 1\n",
      "Enqueued item: 2\n",
      "Enqueued item: 3\n",
      "Enqueued item: 4\n",
      "Enqueued item: 5\n",
      "Queue is Full\n",
      "1->2->3->4->5->is_empty:  False\n",
      "is_full:  True\n",
      "peek:  1\n"
     ]
    }
   ],
   "source": [
    "queue.enqueue(1)\n",
    "queue.enqueue(2)\n",
    "queue.enqueue(3)\n",
    "queue.enqueue(4)\n",
    "queue.enqueue(5)\n",
    "queue.enqueue(6)\n",
    "queue.print_queue()\n",
    "print(\"is_empty: \", queue.is_empty())\n",
    "print(\"is_full: \", queue.is_full())\n",
    "print(\"peek: \", queue.peek())"
   ]
  },
  {
   "cell_type": "markdown",
   "metadata": {},
   "source": [
    "3. Dequeue twice"
   ]
  },
  {
   "cell_type": "code",
   "execution_count": 132,
   "metadata": {},
   "outputs": [
    {
     "name": "stdout",
     "output_type": "stream",
     "text": [
      "dequeued element: 1\n",
      "dequeued element: 2\n",
      "3->4->5->is_empty:  False\n",
      "is_full:  False\n",
      "peek:  3\n"
     ]
    }
   ],
   "source": [
    "queue.dequeue()\n",
    "queue.dequeue()\n",
    "queue.print_queue()\n",
    "print(\"is_empty: \", queue.is_empty())\n",
    "print(\"is_full: \", queue.is_full())\n",
    "print(\"peek: \", queue.peek())"
   ]
  },
  {
   "cell_type": "markdown",
   "metadata": {},
   "source": [
    "4. Dequeue until empty."
   ]
  },
  {
   "cell_type": "code",
   "execution_count": 133,
   "metadata": {},
   "outputs": [
    {
     "name": "stdout",
     "output_type": "stream",
     "text": [
      "dequeued element: 3\n",
      "dequeued element: 4\n",
      "dequeued element: 5\n",
      "Queue is empty\n",
      "is_empty:  True\n",
      "is_full:  False\n",
      "peek:  None\n"
     ]
    }
   ],
   "source": [
    "queue.dequeue()\n",
    "queue.dequeue()\n",
    "queue.dequeue()\n",
    "queue.dequeue()\n",
    "queue.print_queue()\n",
    "print(\"is_empty: \", queue.is_empty())\n",
    "print(\"is_full: \", queue.is_full())\n",
    "print(\"peek: \", queue.peek())"
   ]
  },
  {
   "cell_type": "markdown",
   "metadata": {},
   "source": [
    "5. Enqueue 6, 7."
   ]
  },
  {
   "cell_type": "code",
   "execution_count": 134,
   "metadata": {},
   "outputs": [
    {
     "name": "stdout",
     "output_type": "stream",
     "text": [
      "Enqueued item: 6\n",
      "Enqueued item: 7\n",
      "6->7->is_empty:  False\n",
      "is_full:  False\n",
      "peek:  6\n"
     ]
    }
   ],
   "source": [
    "queue.enqueue(6)\n",
    "queue.enqueue(7)\n",
    "queue.print_queue()\n",
    "print(\"is_empty: \", queue.is_empty())\n",
    "print(\"is_full: \", queue.is_full())\n",
    "print(\"peek: \", queue.peek())"
   ]
  }
 ],
 "metadata": {
  "kernelspec": {
   "display_name": "Python 3",
   "language": "python",
   "name": "python3"
  },
  "language_info": {
   "codemirror_mode": {
    "name": "ipython",
    "version": 3
   },
   "file_extension": ".py",
   "mimetype": "text/x-python",
   "name": "python",
   "nbconvert_exporter": "python",
   "pygments_lexer": "ipython3",
   "version": "3.10.7"
  },
  "orig_nbformat": 4
 },
 "nbformat": 4,
 "nbformat_minor": 2
}
