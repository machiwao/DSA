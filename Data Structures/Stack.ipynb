{
 "cells": [
  {
   "cell_type": "markdown",
   "metadata": {},
   "source": [
    "# **Stack**"
   ]
  },
  {
   "cell_type": "markdown",
   "metadata": {},
   "source": [
    "#### Linear Data Structure that follows the **Last-In, First Out Principle (LIFO)**. First element is called the **top**  "
   ]
  },
  {
   "cell_type": "markdown",
   "metadata": {},
   "source": [
    "#### **Operations of Stack**\n",
    "1. Push - Add element at the top of a stack\n",
    "2. Pop - Remove an element from the top of the stack\n",
    "3. IsEmpty - Check if the stack is empty\n",
    "4. IsFull - Check if the stack is Full\n",
    "5. Peek - Get the value of the top element without removing it."
   ]
  },
  {
   "cell_type": "markdown",
   "metadata": {},
   "source": [
    "#### **Python Code Implementation** : *Arrays/List*"
   ]
  },
  {
   "cell_type": "code",
   "execution_count": 136,
   "metadata": {},
   "outputs": [],
   "source": [
    "class Stack:\n",
    "    def __init__(self, size):\n",
    "        self.stack = []\n",
    "        self.capacity = size\n",
    "        self.top = -1\n",
    "    \n",
    "    def is_empty(self):\n",
    "        return len(self.stack) == 0\n",
    "    \n",
    "    def is_full(self):\n",
    "        return len(self.stack) == self.capacity\n",
    "    \n",
    "    def push(self, value):\n",
    "        if self.is_full():\n",
    "            print(\"Stack is full\")\n",
    "            return\n",
    "        \n",
    "        self.stack.append(value)\n",
    "        print(f\"Pushed item: {value}\")\n",
    "\n",
    "    def pop(self):\n",
    "        if(self.is_empty()):\n",
    "            print(\"Stack is empty\")\n",
    "            return\n",
    "        \n",
    "        print(f\"Popped item: {self.stack.pop()}\")\n",
    "\n",
    "    def peek(self):\n",
    "        if(self.is_empty()):\n",
    "            return -1\n",
    "        return self.stack[self.top]\n",
    "\n",
    "    def print_stack(self):\n",
    "        for i in self.stack:\n",
    "            if(i is self.stack[self.top]):\n",
    "                print(i, end=\"\")\n",
    "                break\n",
    "            print(i, end = \", \")"
   ]
  },
  {
   "cell_type": "markdown",
   "metadata": {},
   "source": [
    "#### **Python Code Implementation** : *Linked-List*"
   ]
  },
  {
   "cell_type": "code",
   "execution_count": 131,
   "metadata": {},
   "outputs": [],
   "source": [
    "class Node:\n",
    "    def __init__(self, value):\n",
    "        self.value = value\n",
    "        self.next = None\n",
    "\n",
    "class Stack:\n",
    "    def __init__(self, size):\n",
    "        self.top = None\n",
    "        self.capacity = size\n",
    "        self.current_size = 0\n",
    "    \n",
    "    def is_empty(self):\n",
    "        return self.current_size == 0\n",
    "    \n",
    "    def is_full(self):\n",
    "        return self.current_size == self.capacity\n",
    "    \n",
    "    def push(self, value):\n",
    "        if self.is_full() is True:\n",
    "            print(\"Stack is full\")\n",
    "            return\n",
    "        \n",
    "        new_top = Node(value)\n",
    "        new_top.next = self.top\n",
    "        self.top = new_top\n",
    "        print(f\"Pushed item: {value}\")\n",
    "        self.current_size += 1\n",
    "\n",
    "    def pop(self):\n",
    "        if(self.is_empty()) is True:\n",
    "            print(\"Stack is empty\")\n",
    "            return\n",
    "        \n",
    "        print(f\"Popped item: {self.top.value}\")\n",
    "        self.top = self.top.next\n",
    "        self.current_size -= 1\n",
    "\n",
    "    def current_size(self):\n",
    "        return self.current_size\n",
    "    \n",
    "    def peek(self):\n",
    "        if(self.is_empty()):\n",
    "            return -1\n",
    "        return self.top.value\n",
    "    \n",
    "    def print_stack(self):\n",
    "        pointer = self.top\n",
    "        while pointer is not None:\n",
    "            print(pointer.value, end = \"->\")\n",
    "            pointer = pointer.next"
   ]
  },
  {
   "cell_type": "markdown",
   "metadata": {},
   "source": [
    "#### **Test Run per Operation**"
   ]
  },
  {
   "cell_type": "markdown",
   "metadata": {},
   "source": [
    "1. Instantiate Stack Object and check if it is empty and top element."
   ]
  },
  {
   "cell_type": "code",
   "execution_count": 137,
   "metadata": {},
   "outputs": [
    {
     "data": {
      "text/plain": [
       "-1"
      ]
     },
     "execution_count": 137,
     "metadata": {},
     "output_type": "execute_result"
    }
   ],
   "source": [
    "new_stack = Stack(5)\n",
    "new_stack.is_empty()\n",
    "new_stack.peek()"
   ]
  },
  {
   "cell_type": "markdown",
   "metadata": {},
   "source": [
    "2. Push numbers until stack is Full. Print created stack and peek top element. Check if stack is Full."
   ]
  },
  {
   "cell_type": "code",
   "execution_count": 138,
   "metadata": {},
   "outputs": [
    {
     "name": "stdout",
     "output_type": "stream",
     "text": [
      "Pushed item: 1\n",
      "Pushed item: 2\n",
      "Pushed item: 3\n",
      "Pushed item: 4\n",
      "Pushed item: 5\n",
      "Stack is full\n",
      "Current Stack: \n",
      "1, 2, 3, 4, 5\n",
      "Top Element: 5\n"
     ]
    },
    {
     "data": {
      "text/plain": [
       "True"
      ]
     },
     "execution_count": 138,
     "metadata": {},
     "output_type": "execute_result"
    }
   ],
   "source": [
    "new_stack.push(1)\n",
    "new_stack.push(2)\n",
    "new_stack.push(3)\n",
    "new_stack.push(4)\n",
    "new_stack.push(5)\n",
    "new_stack.push(6)\n",
    "print(\"Current Stack: \")\n",
    "new_stack.print_stack()\n",
    "print(f\"\\nTop Element: {new_stack.peek()}\")\n",
    "new_stack.is_full()"
   ]
  },
  {
   "cell_type": "markdown",
   "metadata": {},
   "source": [
    "3. Pop Two Elements. Print Modified Stack and peek top Element. Check if stack is Full."
   ]
  },
  {
   "cell_type": "code",
   "execution_count": 139,
   "metadata": {},
   "outputs": [
    {
     "name": "stdout",
     "output_type": "stream",
     "text": [
      "Popped item: 5\n",
      "Popped item: 4\n",
      "Current Stack: \n",
      "1, 2, 3\n",
      "Top Element: 3\n"
     ]
    },
    {
     "data": {
      "text/plain": [
       "False"
      ]
     },
     "execution_count": 139,
     "metadata": {},
     "output_type": "execute_result"
    }
   ],
   "source": [
    "new_stack.pop()\n",
    "new_stack.pop()\n",
    "print(\"Current Stack: \")\n",
    "new_stack.print_stack()\n",
    "print(f\"\\nTop Element: {new_stack.peek()}\")\n",
    "new_stack.is_full()"
   ]
  },
  {
   "cell_type": "markdown",
   "metadata": {},
   "source": [
    "4. Pop all remaining elements until error statement appears. Print empty stack and check if stack is empty and top element."
   ]
  },
  {
   "cell_type": "code",
   "execution_count": 140,
   "metadata": {},
   "outputs": [
    {
     "name": "stdout",
     "output_type": "stream",
     "text": [
      "Popped item: 3\n",
      "Popped item: 2\n",
      "Popped item: 1\n",
      "Stack is empty\n",
      "Current Stack: \n",
      "\n",
      "Top Element: -1\n"
     ]
    },
    {
     "data": {
      "text/plain": [
       "True"
      ]
     },
     "execution_count": 140,
     "metadata": {},
     "output_type": "execute_result"
    }
   ],
   "source": [
    "new_stack.pop()\n",
    "new_stack.pop()\n",
    "new_stack.pop()\n",
    "new_stack.pop()\n",
    "print(\"Current Stack: \")\n",
    "new_stack.print_stack()\n",
    "print(f\"\\nTop Element: {new_stack.peek()}\")\n",
    "new_stack.is_empty()"
   ]
  }
 ],
 "metadata": {
  "kernelspec": {
   "display_name": "Python 3",
   "language": "python",
   "name": "python3"
  },
  "language_info": {
   "codemirror_mode": {
    "name": "ipython",
    "version": 3
   },
   "file_extension": ".py",
   "mimetype": "text/x-python",
   "name": "python",
   "nbconvert_exporter": "python",
   "pygments_lexer": "ipython3",
   "version": "3.10.7"
  },
  "orig_nbformat": 4
 },
 "nbformat": 4,
 "nbformat_minor": 2
}
