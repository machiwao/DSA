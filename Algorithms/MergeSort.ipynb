{
 "cells": [
  {
   "cell_type": "markdown",
   "metadata": {},
   "source": [
    "# **Merge Sort**"
   ]
  },
  {
   "cell_type": "markdown",
   "metadata": {},
   "source": [
    "Merge Sort is one of the most popular sorting algorithms that is based on the principle of Divide and Conquer Algorithm."
   ]
  },
  {
   "cell_type": "markdown",
   "metadata": {},
   "source": [
    "## **Implementation**"
   ]
  },
  {
   "cell_type": "code",
   "execution_count": 16,
   "metadata": {},
   "outputs": [],
   "source": [
    "def Merge_Sort(list):\n",
    "    if len(list) > 1:\n",
    "        mid_point = len(list)//2\n",
    "        left_side = list[:mid_point]\n",
    "        right_side = list[mid_point:]\n",
    "\n",
    "        Merge_Sort(left_side)\n",
    "        Merge_Sort(right_side)\n",
    "\n",
    "        i = j = k = 0\n",
    "\n",
    "        while i < len(left_side) and j < len(right_side):\n",
    "            if left_side[i] < right_side[j]:\n",
    "                list[k] = left_side[i]\n",
    "                i += 1\n",
    "            else:\n",
    "                list[k] = right_side[j]\n",
    "                j += 1\n",
    "            k += 1\n",
    "        \n",
    "        while i < len(left_side):\n",
    "            list[k] = left_side[i]\n",
    "            i += 1\n",
    "            k += 1\n",
    "        \n",
    "        while j < len(right_side):\n",
    "            list[k] = right_side[j]\n",
    "            j += 1\n",
    "            k += 1\n",
    "        print(list)\n"
   ]
  },
  {
   "cell_type": "markdown",
   "metadata": {},
   "source": [
    "## **Test Run**"
   ]
  },
  {
   "cell_type": "code",
   "execution_count": 17,
   "metadata": {},
   "outputs": [
    {
     "name": "stdout",
     "output_type": "stream",
     "text": [
      "[5, 6]\n",
      "[3, 5, 6]\n",
      "[-7, 0]\n",
      "[-7, -2, 0]\n",
      "[-7, -2, 0, 3, 5, 6]\n"
     ]
    }
   ],
   "source": [
    "list = [3, 6, 5, -2, 0, -7]\n",
    "Merge_Sort(list)"
   ]
  }
 ],
 "metadata": {
  "kernelspec": {
   "display_name": "Python 3",
   "language": "python",
   "name": "python3"
  },
  "language_info": {
   "codemirror_mode": {
    "name": "ipython",
    "version": 3
   },
   "file_extension": ".py",
   "mimetype": "text/x-python",
   "name": "python",
   "nbconvert_exporter": "python",
   "pygments_lexer": "ipython3",
   "version": "3.10.7"
  },
  "orig_nbformat": 4
 },
 "nbformat": 4,
 "nbformat_minor": 2
}
