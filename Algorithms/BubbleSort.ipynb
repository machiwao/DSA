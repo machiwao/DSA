{
 "cells": [
  {
   "cell_type": "markdown",
   "metadata": {},
   "source": [
    "# **Bubble Sort**"
   ]
  },
  {
   "cell_type": "markdown",
   "metadata": {},
   "source": [
    "A sorting algorithm that compares two adjacents elements and swaps them until they are in the intended order."
   ]
  },
  {
   "cell_type": "markdown",
   "metadata": {},
   "source": [
    "## **Implementation**"
   ]
  },
  {
   "cell_type": "code",
   "execution_count": 12,
   "metadata": {},
   "outputs": [],
   "source": [
    "def Bubble_Sort(list):\n",
    "    print(f\"Before sorted: {list}\")\n",
    "    for i in range(len(list)):\n",
    "        swapped = False\n",
    "        for j in range(0, len(list) - i - 1):\n",
    "            if list[j] > list[j+1]:\n",
    "                list[j+1], list[j] = list[j], list[j+1]\n",
    "                swapped = True\n",
    "        if swapped is False:\n",
    "            break\n",
    "    print(f\"After sorted: {list}\")"
   ]
  },
  {
   "cell_type": "markdown",
   "metadata": {},
   "source": [
    "## **Test Run**"
   ]
  },
  {
   "cell_type": "code",
   "execution_count": 16,
   "metadata": {},
   "outputs": [
    {
     "name": "stdout",
     "output_type": "stream",
     "text": [
      "Before sorted: [4, 9, 5, 7, 1, 10]\n",
      "After sorted: [1, 4, 5, 7, 9, 10]\n",
      "Passes: 4\n"
     ]
    }
   ],
   "source": [
    "a = [4, 9, 5, 7, 1, 10]\n",
    "Bubble_Sort(a)"
   ]
  }
 ],
 "metadata": {
  "kernelspec": {
   "display_name": "Python 3",
   "language": "python",
   "name": "python3"
  },
  "language_info": {
   "codemirror_mode": {
    "name": "ipython",
    "version": 3
   },
   "file_extension": ".py",
   "mimetype": "text/x-python",
   "name": "python",
   "nbconvert_exporter": "python",
   "pygments_lexer": "ipython3",
   "version": "3.10.7"
  },
  "orig_nbformat": 4
 },
 "nbformat": 4,
 "nbformat_minor": 2
}
