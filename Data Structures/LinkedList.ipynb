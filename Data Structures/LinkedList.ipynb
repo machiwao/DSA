{
 "cells": [
  {
   "cell_type": "markdown",
   "metadata": {},
   "source": [
    "# **Linked List Implementation**"
   ]
  },
  {
   "cell_type": "code",
   "execution_count": 562,
   "metadata": {},
   "outputs": [],
   "source": [
    "import gc"
   ]
  },
  {
   "cell_type": "markdown",
   "metadata": {},
   "source": [
    "### Create Node Class for Linked List:"
   ]
  },
  {
   "cell_type": "code",
   "execution_count": 563,
   "metadata": {},
   "outputs": [],
   "source": [
    "class Node:\n",
    "    def __init__(self, value):\n",
    "        self.value = value\n",
    "        self.next = None"
   ]
  },
  {
   "cell_type": "markdown",
   "metadata": {},
   "source": [
    "### Singly Linked List"
   ]
  },
  {
   "cell_type": "code",
   "execution_count": 564,
   "metadata": {},
   "outputs": [],
   "source": [
    "class SinglyLinkedList:\n",
    "    def __init__(self):\n",
    "        self.head = None\n",
    "        self.tail = None\n",
    "        self.size = 0"
   ]
  },
  {
   "cell_type": "markdown",
   "metadata": {},
   "source": [
    "#### Implementation and Operations of SLL"
   ]
  },
  {
   "cell_type": "code",
   "execution_count": 565,
   "metadata": {},
   "outputs": [],
   "source": [
    "class SinglyLinkedList:\n",
    "    def __init__(self):\n",
    "        self.head = None\n",
    "        self.tail = None\n",
    "        self.size = 0\n",
    "\n",
    "    def append_empty(self, value):\n",
    "        self.head = self.tail = Node(value)\n",
    "\n",
    "    def append(self, value):\n",
    "        if self.is_empty():\n",
    "            self.append_empty(value)\n",
    "        else:\n",
    "            new_node = Node(value)\n",
    "            self.tail.next = self.tail = new_node\n",
    "            new_node.next = None\n",
    "        self.size += 1\n",
    "    \n",
    "    def append_first(self, value):\n",
    "        if self.is_empty():\n",
    "            self.append_empty(value)\n",
    "        else:\n",
    "            added_node = Node(value)\n",
    "            added_node.next = self.head\n",
    "            self.head = added_node\n",
    "        self.size += 1\n",
    "\n",
    "    def append_after(self, node, value):\n",
    "        if self.is_empty():\n",
    "            self.append_Empty(value)\n",
    "        elif node is None:\n",
    "            print(\"given previous node must be in Linked List\")\n",
    "        else:\n",
    "            new_node = Node(value)\n",
    "            new_node.next = node.next\n",
    "            node.next = new_node\n",
    "        self.size += 1\n",
    "\n",
    "    def get_element(self, position):\n",
    "        current_index = 0\n",
    "        pointer = self.head\n",
    "        while pointer is not None:\n",
    "            if current_index == position:\n",
    "                return pointer.value\n",
    "            pointer = pointer.next\n",
    "            current_index = current_index + 1\n",
    "        return None\n",
    "\n",
    "    def delete(self, value):\n",
    "        pointer = self.head\n",
    "        prev = None\n",
    "        while pointer is not None:\n",
    "            if pointer.value == value:\n",
    "                break\n",
    "            prev = pointer\n",
    "            pointer = pointer.next\n",
    "        if pointer is None:\n",
    "            return -1\n",
    "        if prev is None:\n",
    "            self.head = pointer.next\n",
    "            self.size -= 1\n",
    "        else:\n",
    "            prev.next = pointer.next\n",
    "            self.size -= 1\n",
    "        gc.collect()\n",
    "    \n",
    "    def delete_head(self):\n",
    "        if self.is_empty():\n",
    "            return -1\n",
    "        self.head = self.head.next\n",
    "        self.size -= 1\n",
    "        gc.collect()\n",
    "    \n",
    "    def delete_tail(self):\n",
    "        if self.is_empty():\n",
    "            return -1\n",
    "        pointer = self.head\n",
    "        while pointer.next is not self.tail:\n",
    "            pointer = pointer.next\n",
    "        self.tail = pointer\n",
    "        self.tail.next = None\n",
    "        self.size -= 1\n",
    "        gc.collect()\n",
    "\n",
    "    def delete_node_at_position(self, position):\n",
    "        pointer = self.head\n",
    "        current_index = 0\n",
    "        prev = None\n",
    "        while pointer is not None:\n",
    "            if current_index == position:\n",
    "                break\n",
    "            prev = pointer\n",
    "            pointer = pointer.next\n",
    "            current_index += 1\n",
    "        if pointer is None:\n",
    "            return -1\n",
    "        if prev is None:\n",
    "            self.head = pointer.next\n",
    "            self.size -= 1\n",
    "        else:\n",
    "            prev.next = pointer.next\n",
    "            self.size -= 1\n",
    "        gc.collect()\n",
    "            \n",
    "    def show_elements(self):\n",
    "        pointer = self.head\n",
    "        while pointer is not None:\n",
    "            print(pointer.value, end = \" > \")\n",
    "            pointer = pointer.next\n",
    "    \n",
    "    def get_length(self):\n",
    "        return self.size\n",
    "    \n",
    "    def is_empty(self):\n",
    "        return self.size == 0\n",
    "\n",
    "    def is_in_list(self, value):\n",
    "        pointer = self.head\n",
    "        while pointer is not None:\n",
    "            if pointer.value == value:\n",
    "                return True\n",
    "            pointer = pointer.next\n",
    "        return False\n"
   ]
  },
  {
   "cell_type": "code",
   "execution_count": 566,
   "metadata": {},
   "outputs": [],
   "source": [
    "singly = SinglyLinkedList()\n",
    "singly.append(1)\n",
    "singly.append(2)\n",
    "singly.append_first(0)\n",
    "singly.append(3)\n",
    "singly.append_after(singly.head.next, 4)"
   ]
  },
  {
   "cell_type": "code",
   "execution_count": 567,
   "metadata": {},
   "outputs": [
    {
     "name": "stdout",
     "output_type": "stream",
     "text": [
      "0 > 1 > 4 > 2 > 3 > "
     ]
    }
   ],
   "source": [
    "singly.show_elements()"
   ]
  },
  {
   "cell_type": "code",
   "execution_count": 568,
   "metadata": {},
   "outputs": [
    {
     "name": "stdout",
     "output_type": "stream",
     "text": [
      "1 > 4 > 2 > 3 > "
     ]
    },
    {
     "data": {
      "text/plain": [
       "False"
      ]
     },
     "execution_count": 568,
     "metadata": {},
     "output_type": "execute_result"
    }
   ],
   "source": [
    "singly.delete_head()\n",
    "singly.show_elements()\n",
    "singly.is_in_list(0)"
   ]
  },
  {
   "cell_type": "code",
   "execution_count": 569,
   "metadata": {},
   "outputs": [
    {
     "name": "stdout",
     "output_type": "stream",
     "text": [
      "1 > 4 > 2 > "
     ]
    },
    {
     "data": {
      "text/plain": [
       "False"
      ]
     },
     "execution_count": 569,
     "metadata": {},
     "output_type": "execute_result"
    }
   ],
   "source": [
    "singly.delete_tail()\n",
    "singly.show_elements()\n",
    "singly.is_in_list(3)"
   ]
  },
  {
   "cell_type": "code",
   "execution_count": 570,
   "metadata": {},
   "outputs": [
    {
     "name": "stdout",
     "output_type": "stream",
     "text": [
      "4 > 2 > "
     ]
    },
    {
     "data": {
      "text/plain": [
       "True"
      ]
     },
     "execution_count": 570,
     "metadata": {},
     "output_type": "execute_result"
    }
   ],
   "source": [
    "singly.delete(1)\n",
    "singly.show_elements()\n",
    "singly.is_in_list(2)"
   ]
  },
  {
   "cell_type": "code",
   "execution_count": 571,
   "metadata": {},
   "outputs": [
    {
     "name": "stdout",
     "output_type": "stream",
     "text": [
      "4 > "
     ]
    },
    {
     "data": {
      "text/plain": [
       "False"
      ]
     },
     "execution_count": 571,
     "metadata": {},
     "output_type": "execute_result"
    }
   ],
   "source": [
    "singly.delete_node_at_position(1)\n",
    "singly.show_elements()\n",
    "singly.is_in_list(2)"
   ]
  },
  {
   "cell_type": "markdown",
   "metadata": {},
   "source": [
    "### Doubly Linked List"
   ]
  },
  {
   "cell_type": "code",
   "execution_count": 572,
   "metadata": {},
   "outputs": [],
   "source": [
    "class Node:\n",
    "    def __init__(self, value):\n",
    "        self.prev = None\n",
    "        self.next = None\n",
    "        self.value = value\n",
    "\n",
    "class DoublyLinkedList:\n",
    "    def __init__(self):\n",
    "        self.head = None\n",
    "        self.tail = None\n",
    "        self.size = 0"
   ]
  },
  {
   "cell_type": "markdown",
   "metadata": {},
   "source": [
    "#### Implementation and Operations of Doubly Linked List"
   ]
  },
  {
   "cell_type": "code",
   "execution_count": 573,
   "metadata": {},
   "outputs": [],
   "source": [
    "class DoublyLinkedList:\n",
    "    def __init__(self):\n",
    "        self.head = None\n",
    "        self.tail = None\n",
    "        self.size = 0\n",
    "\n",
    "    def append_empty(self, value):\n",
    "        self.head = self.tail = Node(value)\n",
    "\n",
    "    def append(self, value):\n",
    "        if self.is_empty():\n",
    "            self.append_empty(value)\n",
    "        else:\n",
    "            new_node = Node(value)\n",
    "            self.tail.next = new_node\n",
    "            new_node.prev = self.tail\n",
    "            self.tail = new_node\n",
    "        self.size += 1\n",
    "    \n",
    "    def append_first(self, value):\n",
    "        if self.is_empty():\n",
    "            self.append_empty(value)\n",
    "        else:\n",
    "            added_node = Node(value)\n",
    "            added_node.next = self.head\n",
    "            self.head.prev = added_node\n",
    "            self.head = added_node\n",
    "        self.size += 1\n",
    "\n",
    "    def append_after(self, node, value):\n",
    "        if self.is_empty():\n",
    "            self.append_Empty(value)\n",
    "        elif node is None:\n",
    "            print(\"given previous node must be in Linked List\")\n",
    "        else:\n",
    "            new_node = Node(value)\n",
    "            new_node.next = node.next\n",
    "            node.next.prev = new_node\n",
    "            new_node.prev = node\n",
    "            node.next = new_node\n",
    "        self.size += 1\n",
    "\n",
    "    def get_element(self, value):\n",
    "        current_index = 0\n",
    "        pointer = self.head\n",
    "        while pointer is not None:\n",
    "            if current_index == value:\n",
    "                return pointer.value\n",
    "            pointer = pointer.next\n",
    "            current_index = current_index + 1\n",
    "        return None\n",
    "\n",
    "    def delete(self, value):\n",
    "        pointer = self.head\n",
    "        while pointer is not None:\n",
    "            if pointer.value == value:\n",
    "                break\n",
    "            pointer = pointer.next\n",
    "        if pointer is None:\n",
    "            return -1\n",
    "        else:\n",
    "            pointer.prev.next = pointer.next\n",
    "            pointer.next.prev = pointer.prev\n",
    "            self.size -= 1\n",
    "        gc.collect()\n",
    "    \n",
    "    def delete_head(self):\n",
    "        if self.is_empty():\n",
    "            return -1\n",
    "        self.head = self.head.next\n",
    "        self.size -= 1\n",
    "        gc.collect()\n",
    "    \n",
    "    def delete_tail(self):\n",
    "        if self.is_empty():\n",
    "            return -1\n",
    "        pointer = self.head\n",
    "        while pointer.next is not self.tail:\n",
    "            pointer = pointer.next\n",
    "        self.tail = pointer\n",
    "        self.tail.next = None\n",
    "        self.size -= 1\n",
    "        gc.collect()\n",
    "\n",
    "    def delete_node_at_position(self, position):\n",
    "        pointer = self.head\n",
    "        current_index = 0\n",
    "        while pointer is not None:\n",
    "            if current_index == position:\n",
    "                break\n",
    "            pointer = pointer.next\n",
    "            current_index += 1\n",
    "        if pointer is None:\n",
    "            return -1\n",
    "        else:\n",
    "            pointer.prev.next = pointer.next\n",
    "            pointer.next.prev = pointer.prev\n",
    "            self.size -= 1\n",
    "        gc.collect()\n",
    "            \n",
    "    def show_elements(self):\n",
    "        pointer = self.head\n",
    "        while pointer is not None:\n",
    "            print(pointer.value, end = \" > \")\n",
    "            pointer = pointer.next\n",
    "    \n",
    "    def get_length(self):\n",
    "        return self.size\n",
    "    \n",
    "    def is_empty(self):\n",
    "        return self.size == 0\n",
    "\n",
    "    def is_in_list(self, value):\n",
    "        pointer = self.head\n",
    "        while pointer is not None:\n",
    "            if pointer.value == value:\n",
    "                return True\n",
    "            pointer = pointer.next\n",
    "        return False"
   ]
  },
  {
   "cell_type": "code",
   "execution_count": 574,
   "metadata": {},
   "outputs": [],
   "source": [
    "doubly = DoublyLinkedList()\n",
    "doubly.append(1)\n",
    "doubly.append(2)\n",
    "doubly.append_first(0)\n",
    "doubly.append(3)\n",
    "doubly.append_after(doubly.head.next, 4)"
   ]
  },
  {
   "cell_type": "code",
   "execution_count": 575,
   "metadata": {},
   "outputs": [
    {
     "name": "stdout",
     "output_type": "stream",
     "text": [
      "0 > 1 > 4 > 2 > 3 > "
     ]
    }
   ],
   "source": [
    "doubly.show_elements()"
   ]
  },
  {
   "cell_type": "code",
   "execution_count": 576,
   "metadata": {},
   "outputs": [
    {
     "name": "stdout",
     "output_type": "stream",
     "text": [
      "1 > 4 > 2 > 3 > "
     ]
    },
    {
     "data": {
      "text/plain": [
       "False"
      ]
     },
     "execution_count": 576,
     "metadata": {},
     "output_type": "execute_result"
    }
   ],
   "source": [
    "doubly.delete_head()\n",
    "doubly.show_elements()\n",
    "doubly.is_in_list(0)"
   ]
  },
  {
   "cell_type": "code",
   "execution_count": 577,
   "metadata": {},
   "outputs": [
    {
     "name": "stdout",
     "output_type": "stream",
     "text": [
      "1 > 4 > 2 > "
     ]
    },
    {
     "data": {
      "text/plain": [
       "False"
      ]
     },
     "execution_count": 577,
     "metadata": {},
     "output_type": "execute_result"
    }
   ],
   "source": [
    "doubly.delete_tail()\n",
    "doubly.show_elements()\n",
    "doubly.is_in_list(3)"
   ]
  },
  {
   "cell_type": "code",
   "execution_count": 578,
   "metadata": {},
   "outputs": [
    {
     "name": "stdout",
     "output_type": "stream",
     "text": [
      "1 > 4 > 2 > "
     ]
    },
    {
     "data": {
      "text/plain": [
       "True"
      ]
     },
     "execution_count": 578,
     "metadata": {},
     "output_type": "execute_result"
    }
   ],
   "source": [
    "doubly.delete(1)\n",
    "doubly.show_elements()\n",
    "doubly.is_in_list(2)"
   ]
  },
  {
   "cell_type": "code",
   "execution_count": 579,
   "metadata": {},
   "outputs": [
    {
     "name": "stdout",
     "output_type": "stream",
     "text": [
      "1 > 4 > 2 > "
     ]
    },
    {
     "data": {
      "text/plain": [
       "True"
      ]
     },
     "execution_count": 579,
     "metadata": {},
     "output_type": "execute_result"
    }
   ],
   "source": [
    "doubly.delete_node_at_position(1)\n",
    "doubly.show_elements()\n",
    "doubly.is_in_list(2)"
   ]
  }
 ],
 "metadata": {
  "kernelspec": {
   "display_name": "Python 3",
   "language": "python",
   "name": "python3"
  },
  "language_info": {
   "codemirror_mode": {
    "name": "ipython",
    "version": 3
   },
   "file_extension": ".py",
   "mimetype": "text/x-python",
   "name": "python",
   "nbconvert_exporter": "python",
   "pygments_lexer": "ipython3",
   "version": "3.10.7"
  },
  "orig_nbformat": 4
 },
 "nbformat": 4,
 "nbformat_minor": 2
}
